{
 "cells": [
  {
   "cell_type": "markdown",
   "metadata": {},
   "source": [
    "# Complex Numbers"
   ]
  },
  {
   "cell_type": "code",
   "execution_count": 1,
   "metadata": {},
   "outputs": [
    {
     "name": "stdout",
     "output_type": "stream",
     "text": [
      "<class 'complex'>\n"
     ]
    }
   ],
   "source": [
    "#   Python also supports complex numbers with the imaginary part identified by the letter j or J\n",
    "#   (as opposed to the letter i used in mathematical notation). For example, the\n",
    "#   complex number 2 + 3i would be written in Python as 2 + 3j:\n",
    "\n",
    "a = 2 + 3j\n",
    "print(type(a))\n"
   ]
  },
  {
   "cell_type": "code",
   "execution_count": 2,
   "metadata": {},
   "outputs": [],
   "source": [
    "#   As you can see, when we use the type() function on a\n",
    "#   complex number, Python tells us that this is an object of type complex.\n"
   ]
  },
  {
   "cell_type": "code",
   "execution_count": 3,
   "metadata": {},
   "outputs": [
    {
     "name": "stdout",
     "output_type": "stream",
     "text": [
      "(2+3j)\n"
     ]
    }
   ],
   "source": [
    "#   You can also define complex numbers using the complex() function:\n",
    "\n",
    "a = complex(2, 3)\n",
    "print(a)"
   ]
  },
  {
   "cell_type": "code",
   "execution_count": 4,
   "metadata": {},
   "outputs": [],
   "source": [
    "#   Here we pass the real and imaginary parts of the complex number as two\n",
    "#   arguments to the complex() function, and it returns a complex number."
   ]
  },
  {
   "cell_type": "code",
   "execution_count": 5,
   "metadata": {},
   "outputs": [
    {
     "name": "stdout",
     "output_type": "stream",
     "text": [
      "(5+6j)\n"
     ]
    }
   ],
   "source": [
    "#   You can add and subtract complex numbers in the same way as real numbers:\n",
    "\n",
    "b = 3 + 3j\n",
    "print(a + b)"
   ]
  },
  {
   "cell_type": "code",
   "execution_count": 6,
   "metadata": {},
   "outputs": [
    {
     "name": "stdout",
     "output_type": "stream",
     "text": [
      "(-1+0j)\n"
     ]
    }
   ],
   "source": [
    "print(a - b)"
   ]
  },
  {
   "cell_type": "code",
   "execution_count": 7,
   "metadata": {},
   "outputs": [
    {
     "name": "stdout",
     "output_type": "stream",
     "text": [
      "(-3+15j)\n",
      "(0.8333333333333334+0.16666666666666666j)\n"
     ]
    }
   ],
   "source": [
    "#   Multiplication and division of complex numbers are also carried out\n",
    "#   similarly:\n",
    "\n",
    "print(a * b)\n",
    "print(a / b)"
   ]
  },
  {
   "cell_type": "code",
   "execution_count": 8,
   "metadata": {},
   "outputs": [],
   "source": [
    "#   The modulus (%) and the floor\n",
    "#   division (//) operations are not valid for complex numbers.\n"
   ]
  },
  {
   "cell_type": "code",
   "execution_count": 10,
   "metadata": {},
   "outputs": [
    {
     "name": "stdout",
     "output_type": "stream",
     "text": [
      "2.0\n",
      "3.0\n"
     ]
    }
   ],
   "source": [
    "#   The real and imaginary parts of a complex number can be retrieved using its\n",
    "#   real and imag attributes, as follows:\n",
    "\n",
    "z = 2 + 3j\n",
    "print(z.real)\n",
    "print(z.imag)"
   ]
  },
  {
   "cell_type": "code",
   "execution_count": 11,
   "metadata": {},
   "outputs": [
    {
     "name": "stdout",
     "output_type": "stream",
     "text": [
      "(2-3j)\n"
     ]
    }
   ],
   "source": [
    "#   The conjugate of a complex number has the same real part but an imaginary\n",
    "#   part with an equal magnitude and an opposite sign. It can be obtained using the\n",
    "#   conjugate() method:\n",
    "\n",
    "print(z.conjugate())"
   ]
  },
  {
   "cell_type": "code",
   "execution_count": 12,
   "metadata": {},
   "outputs": [
    {
     "name": "stdout",
     "output_type": "stream",
     "text": [
      "3.605551275463989\n"
     ]
    }
   ],
   "source": [
    "#   Both the real and imaginary parts are floating point numbers. Using the\n",
    "#   real and imaginary parts, you can then calculate the magnitude of a complex\n",
    "#   number with the following formula, where x and y are the real and imaginary\n",
    "#   parts of the number, respectively: squareroot of x square and y square.\n",
    "print((z.real ** 2 + z.imag ** 2) ** 0.5)\n"
   ]
  },
  {
   "cell_type": "code",
   "execution_count": 13,
   "metadata": {},
   "outputs": [
    {
     "name": "stdout",
     "output_type": "stream",
     "text": [
      "5\n",
      "5\n"
     ]
    }
   ],
   "source": [
    "#   A simpler way to find the magnitude of a complex number is with the abs()\n",
    "#   function. The abs() function returns the absolute value when called with a real\n",
    "#   number as its argument. For example, abs(5) and abs(-5) both return 5.\n",
    "\n",
    "print(abs(5))\n",
    "print(abs(-5))"
   ]
  },
  {
   "cell_type": "code",
   "execution_count": 14,
   "metadata": {},
   "outputs": [
    {
     "data": {
      "text/plain": [
       "3.605551275463989"
      ]
     },
     "execution_count": 14,
     "metadata": {},
     "output_type": "execute_result"
    }
   ],
   "source": [
    "#   However, for complex numbers, it returns the magnitude:\n",
    "\n",
    "abs(z)"
   ]
  },
  {
   "cell_type": "code",
   "execution_count": null,
   "metadata": {},
   "outputs": [],
   "source": [
    "#   The standard library’s cmath module (cmath for complex math) provides\n",
    "#   access to a number of other specialized functions to work with complex\n",
    "#   numbers.   "
   ]
  }
 ],
 "metadata": {
  "kernelspec": {
   "display_name": "Python 3",
   "language": "python",
   "name": "python3"
  },
  "language_info": {
   "codemirror_mode": {
    "name": "ipython",
    "version": 3
   },
   "file_extension": ".py",
   "mimetype": "text/x-python",
   "name": "python",
   "nbconvert_exporter": "python",
   "pygments_lexer": "ipython3",
   "version": "3.11.9"
  }
 },
 "nbformat": 4,
 "nbformat_minor": 2
}
